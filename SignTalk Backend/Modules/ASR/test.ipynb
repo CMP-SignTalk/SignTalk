{
 "cells": [
  {
   "cell_type": "code",
   "execution_count": null,
   "metadata": {},
   "outputs": [],
   "source": [
    "from utils import load_files\n",
    "from main import transcribe"
   ]
  },
  {
   "cell_type": "code",
   "execution_count": null,
   "metadata": {},
   "outputs": [],
   "source": [
    "model , decoder = load_files()"
   ]
  },
  {
   "cell_type": "code",
   "execution_count": null,
   "metadata": {},
   "outputs": [],
   "source": [
    "transcript = transcribe(\"test.flac\", model, decoder)"
   ]
  },
  {
   "cell_type": "code",
   "execution_count": null,
   "metadata": {},
   "outputs": [],
   "source": [
    "print(transcript)"
   ]
  },
  {
   "cell_type": "code",
   "execution_count": null,
   "metadata": {},
   "outputs": [],
   "source": [
    "import sounddevice as sd\n",
    "import soundfile as sf\n",
    "\n",
    "\n",
    "def record_audio(duration, sample_rate=16000, file_path=\"test.wav\"):\n",
    "    # Set the sample rate and duration\n",
    "    duration_in_samples = int(duration * sample_rate)\n",
    "\n",
    "    # Record audio\n",
    "    audio = sd.rec(frames=duration_in_samples,\n",
    "                   samplerate=sample_rate, channels=1, blocking=True)\n",
    "\n",
    "    # Save audio to file\n",
    "    sf.write(file_path, audio, sample_rate)\n",
    "\n",
    "    return file_path\n",
    "\n",
    "\n",
    "# Example usage: Record audio for 5 seconds at a sample rate of 16000 Hz and save to \"recorded_audio.wav\"\n",
    "audio_file = record_audio(duration=2, sample_rate=16000,\n",
    "                          file_path=\"test.wav\")\n",
    "print(\"Audio saved to:\", audio_file)\n"
   ]
  },
  {
   "cell_type": "code",
   "execution_count": null,
   "metadata": {},
   "outputs": [],
   "source": [
    "transcript = transcribe(\"test.wav\", model, decoder)\n",
    "print(transcript)"
   ]
  }
 ],
 "metadata": {
  "kernelspec": {
   "display_name": "Python 3",
   "language": "python",
   "name": "python3"
  },
  "language_info": {
   "codemirror_mode": {
    "name": "ipython",
    "version": 3
   },
   "file_extension": ".py",
   "mimetype": "text/x-python",
   "name": "python",
   "nbconvert_exporter": "python",
   "pygments_lexer": "ipython3",
   "version": "3.9.6"
  },
  "orig_nbformat": 4
 },
 "nbformat": 4,
 "nbformat_minor": 2
}
