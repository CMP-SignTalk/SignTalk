{
 "cells": [
  {
   "cell_type": "code",
   "execution_count": 1,
   "metadata": {},
   "outputs": [],
   "source": [
    "import torchaudio"
   ]
  },
  {
   "cell_type": "code",
   "execution_count": 2,
   "metadata": {},
   "outputs": [
    {
     "name": "stderr",
     "output_type": "stream",
     "text": [
      "Downloading: \"https://download.pytorch.org/torchaudio/models/wav2vec2_fairseq_base_ls960_asr_ll10m.pth\" to C:\\Users\\ahmed/.cache\\torch\\hub\\checkpoints\\wav2vec2_fairseq_base_ls960_asr_ll10m.pth\n",
      "100%|██████████| 360M/360M [03:51<00:00, 1.63MB/s] \n"
     ]
    }
   ],
   "source": [
    "bundle = torchaudio.pipelines.WAV2VEC2_ASR_BASE_10M\n",
    "acoustic_model = bundle.get_model()\n"
   ]
  },
  {
   "cell_type": "code",
   "execution_count": 3,
   "metadata": {},
   "outputs": [],
   "source": [
    "import torch \n",
    "\n",
    "torch.save(acoustic_model, 'wav2vec2.pt')"
   ]
  },
  {
   "cell_type": "code",
   "execution_count": 4,
   "metadata": {},
   "outputs": [],
   "source": [
    "model = torch.load('wav2vec2.pt')"
   ]
  },
  {
   "cell_type": "code",
   "execution_count": null,
   "metadata": {},
   "outputs": [],
   "source": []
  },
  {
   "cell_type": "code",
   "execution_count": null,
   "metadata": {},
   "outputs": [],
   "source": [
    "import sounddevice as sd\n",
    "import soundfile as sf\n",
    "\n",
    "\n",
    "def record_audio(duration, sample_rate=16000, file_path=\"test.wav\"):\n",
    "    # Set the sample rate and duration\n",
    "    duration_in_samples = int(duration * sample_rate)\n",
    "\n",
    "    # Record audio\n",
    "    audio = sd.rec(frames=duration_in_samples,\n",
    "                   samplerate=sample_rate, channels=1, blocking=True)\n",
    "\n",
    "    # Save audio to file\n",
    "    sf.write(file_path, audio, sample_rate)\n",
    "\n",
    "    return file_path\n",
    "\n",
    "\n",
    "# Example usage: Record audio for 5 seconds at a sample rate of 16000 Hz and save to \"recorded_audio.wav\"\n",
    "audio_file = record_audio(duration=2, sample_rate=16000,\n",
    "                          file_path=\"test.wav\")\n",
    "print(\"Audio saved to:\", audio_file)\n"
   ]
  },
  {
   "cell_type": "code",
   "execution_count": null,
   "metadata": {},
   "outputs": [],
   "source": [
    "torchaudio.pipelines.WAV2VEC2_ASR_BASE_960H\n"
   ]
  }
 ],
 "metadata": {
  "kernelspec": {
   "display_name": "Python 3",
   "language": "python",
   "name": "python3"
  },
  "language_info": {
   "codemirror_mode": {
    "name": "ipython",
    "version": 3
   },
   "file_extension": ".py",
   "mimetype": "text/x-python",
   "name": "python",
   "nbconvert_exporter": "python",
   "pygments_lexer": "ipython3",
   "version": "3.9.6"
  },
  "orig_nbformat": 4
 },
 "nbformat": 4,
 "nbformat_minor": 2
}
